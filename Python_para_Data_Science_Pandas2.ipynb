{
  "nbformat": 4,
  "nbformat_minor": 0,
  "metadata": {
    "colab": {
      "provenance": [],
      "authorship_tag": "ABX9TyNLCHQutOLdL6CSVn52T54T",
      "include_colab_link": true
    },
    "kernelspec": {
      "name": "python3",
      "display_name": "Python 3"
    },
    "language_info": {
      "name": "python"
    }
  },
  "cells": [
    {
      "cell_type": "markdown",
      "metadata": {
        "id": "view-in-github",
        "colab_type": "text"
      },
      "source": [
        "<a href=\"https://colab.research.google.com/github/renatamontanhana/Phyton-_para_datascience_pandas/blob/main/Python_para_Data_Science_Pandas2.ipynb\" target=\"_parent\"><img src=\"https://colab.research.google.com/assets/colab-badge.svg\" alt=\"Open In Colab\"/></a>"
      ]
    },
    {
      "cell_type": "code",
      "execution_count": 1,
      "metadata": {
        "id": "pyAkkaElhFbP"
      },
      "outputs": [],
      "source": [
        "import pandas as pd\n",
        "pd.set_option('display.max_rows', 10)\n",
        "#pd.set_option('display.max_columns', 1000)"
      ]
    },
    {
      "cell_type": "code",
      "source": [
        "dados = {'Jetta': 88000, 'Crossfox': 72000, 'DS5': 124000}"
      ],
      "metadata": {
        "id": "H0OE_-xPnAd-"
      },
      "execution_count": 2,
      "outputs": []
    },
    {
      "cell_type": "code",
      "source": [
        "dados.update({'Passat': 85000, 'Fusca': 150000})"
      ],
      "metadata": {
        "id": "6bDPfzWDnDF3"
      },
      "execution_count": 3,
      "outputs": []
    },
    {
      "cell_type": "code",
      "source": [
        "dados\n"
      ],
      "metadata": {
        "colab": {
          "base_uri": "https://localhost:8080/"
        },
        "id": "SsLvPGJ1nKuc",
        "outputId": "a196289f-a49e-4cfb-831f-56a6d92decd3"
      },
      "execution_count": 4,
      "outputs": [
        {
          "output_type": "execute_result",
          "data": {
            "text/plain": [
              "{'Jetta': 88000,\n",
              " 'Crossfox': 72000,\n",
              " 'DS5': 124000,\n",
              " 'Passat': 85000,\n",
              " 'Fusca': 150000}"
            ]
          },
          "metadata": {},
          "execution_count": 4
        }
      ]
    },
    {
      "cell_type": "code",
      "source": [
        "dados.update(Passat = 95000, Fusca = 160000)"
      ],
      "metadata": {
        "id": "ARROmlASnM7a"
      },
      "execution_count": 5,
      "outputs": []
    },
    {
      "cell_type": "code",
      "source": [
        "dados"
      ],
      "metadata": {
        "colab": {
          "base_uri": "https://localhost:8080/"
        },
        "id": "B7fjoQ2AnTPD",
        "outputId": "5f7090c8-16c4-4317-bb31-be254f8a71d4"
      },
      "execution_count": 6,
      "outputs": [
        {
          "output_type": "execute_result",
          "data": {
            "text/plain": [
              "{'Jetta': 88000,\n",
              " 'Crossfox': 72000,\n",
              " 'DS5': 124000,\n",
              " 'Passat': 95000,\n",
              " 'Fusca': 160000}"
            ]
          },
          "metadata": {},
          "execution_count": 6
        }
      ]
    },
    {
      "cell_type": "code",
      "source": [
        "dados = {\n",
        "    'Crossfox': {'valor': 72000, 'ano': 2005}, \n",
        "    'DS5': {'valor': 125000, 'ano': 2015}, \n",
        "    'Fusca': {'valor': 150000, 'ano': 1976}, \n",
        "    'Jetta': {'valor': 88000, 'ano': 2010}, \n",
        "    'Passat': {'valor': 106000, 'ano': 1998}\n",
        "}"
      ],
      "metadata": {
        "id": "bziVUAwVnUC-"
      },
      "execution_count": 7,
      "outputs": []
    },
    {
      "cell_type": "code",
      "source": [
        "for item in dados.items():\n",
        "    if(item[1]['ano'] >= 2000):\n",
        "        print(item[0])"
      ],
      "metadata": {
        "colab": {
          "base_uri": "https://localhost:8080/"
        },
        "id": "FSkOnhttpWbr",
        "outputId": "ac6ffe85-c018-4216-e38e-37c6f1f19248"
      },
      "execution_count": 11,
      "outputs": [
        {
          "output_type": "stream",
          "name": "stdout",
          "text": [
            "Crossfox\n",
            "DS5\n",
            "Jetta\n"
          ]
        }
      ]
    },
    {
      "cell_type": "code",
      "source": [
        "for item in dados.items():\n",
        "    print(item)"
      ],
      "metadata": {
        "colab": {
          "base_uri": "https://localhost:8080/"
        },
        "id": "jRxqjvEUpsDo",
        "outputId": "31588429-c8e6-4493-87c2-f2c6a22dc42d"
      },
      "execution_count": 12,
      "outputs": [
        {
          "output_type": "stream",
          "name": "stdout",
          "text": [
            "('Crossfox', {'valor': 72000, 'ano': 2005})\n",
            "('DS5', {'valor': 125000, 'ano': 2015})\n",
            "('Fusca', {'valor': 150000, 'ano': 1976})\n",
            "('Jetta', {'valor': 88000, 'ano': 2010})\n",
            "('Passat', {'valor': 106000, 'ano': 1998})\n"
          ]
        }
      ]
    }
  ]
}